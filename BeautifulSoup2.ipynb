{
 "cells": [
  {
   "cell_type": "code",
   "execution_count": 1,
   "id": "217b41f8-9d70-451a-9233-da96103c1a7b",
   "metadata": {},
   "outputs": [],
   "source": [
    "from bs4 import BeautifulSoup\n"
   ]
  },
  {
   "cell_type": "code",
   "execution_count": 2,
   "id": "87ab3096-7a57-4a72-a522-751472efa0c4",
   "metadata": {},
   "outputs": [],
   "source": [
    "import requests\n"
   ]
  },
  {
   "cell_type": "code",
   "execution_count": 4,
   "id": "b78cb977-3623-4b19-a2cd-d21319ad730d",
   "metadata": {},
   "outputs": [],
   "source": [
    "responses=requests.get(\"https://realpython.com/\")"
   ]
  },
  {
   "cell_type": "code",
   "execution_count": 6,
   "id": "43f42982-bac8-4c7a-821b-b3d6aa0a0e49",
   "metadata": {},
   "outputs": [
    {
     "name": "stdout",
     "output_type": "stream",
     "text": [
      "<class 'str'>\n"
     ]
    }
   ],
   "source": [
    "print(type(responses.text))\n"
   ]
  },
  {
   "cell_type": "code",
   "execution_count": 8,
   "id": "79552738-66ef-4b90-8bfb-14efc9937908",
   "metadata": {},
   "outputs": [],
   "source": [
    "html_doc=responses.text"
   ]
  },
  {
   "cell_type": "code",
   "execution_count": 9,
   "id": "5646ef53-95e8-4fb8-a6c9-2bbd921ea457",
   "metadata": {},
   "outputs": [],
   "source": [
    "soup=BeautifulSoup(html_doc,\"html.parser\")"
   ]
  },
  {
   "cell_type": "code",
   "execution_count": 12,
   "id": "62e8ef63-8aba-4d5d-a77f-49ba14ecd03c",
   "metadata": {},
   "outputs": [
    {
     "data": {
      "text/plain": [
       "[<h2 class=\"card-title h2 my-0 py-0\">How to Split a String in Python</h2>,\n",
       " <h2 class=\"card-title h4 my-0 py-0\">NumPy Techniques and Practical Examples</h2>,\n",
       " <h2 class=\"card-title h4 my-0 py-0\">Python for Loops: The Pythonic Way</h2>,\n",
       " <h2 class=\"card-title h4 my-0 py-0\">Build a Dice-Rolling Application With Python</h2>,\n",
       " <h2 class=\"card-title h4 my-0 py-0\">Top Python Game Engines</h2>,\n",
       " <h2 class=\"card-title h4 my-0 py-0\">Develop Data Visualization Interfaces in Python With Dash</h2>,\n",
       " <h2 class=\"card-title h4 my-0 py-0\">Build a Quiz Application With Python</h2>,\n",
       " <h2 class=\"card-title h4 my-0 py-0\">Build a Tic-Tac-Toe Game With Python and Tkinter</h2>,\n",
       " <h2 class=\"card-title h4 my-0 py-0\">Python &amp; APIs: A Winning Combo for Reading Public Data</h2>,\n",
       " <h2 class=\"card-title h4 my-0 py-0\">A Guide to Modern Python String Formatting Tools</h2>,\n",
       " <h2 class=\"card-title h4 my-0 py-0\">Providing Multiple Constructors in Your Python Classes</h2>,\n",
       " <h2 class=\"card-title h4 my-0 py-0\">Natural Language Processing With spaCy in Python</h2>,\n",
       " <h2 class=\"card-title h4 my-0 py-0\">Split Your Dataset With scikit-learn's train_test_split()</h2>,\n",
       " <h2 class=\"card-title h4 my-0 py-0\">Creating a Scalable Flask Web Application From Scratch</h2>,\n",
       " <h2 class=\"card-title h4 my-0 py-0\">How to Split a Python List or Iterable Into Chunks</h2>,\n",
       " <h2 class=\"card-title h4 my-0 py-0\">Lists vs Tuples in Python</h2>,\n",
       " <h2 class=\"card-title h4 my-0 py-0\">Python Folium: Create Web Maps From Your Data</h2>,\n",
       " <h2 class=\"card-title h4 my-0 py-0\">Python's \"in\" and \"not in\" Operators: Check for Membership</h2>,\n",
       " <h2 class=\"card-title h4 my-0 py-0\">Python's zipfile: Manipulate Your ZIP Files Efficiently</h2>]"
      ]
     },
     "execution_count": 12,
     "metadata": {},
     "output_type": "execute_result"
    }
   ],
   "source": [
    "titles=soup.find_all(\"h2\",class_=\"card-title\")\n",
    "titles"
   ]
  },
  {
   "cell_type": "code",
   "execution_count": 15,
   "id": "bc710342-6c2b-4e7e-b26e-3d5dd70d5e82",
   "metadata": {},
   "outputs": [
    {
     "data": {
      "text/plain": [
       "['How to Split a String in Python',\n",
       " 'NumPy Techniques and Practical Examples',\n",
       " 'Python for Loops: The Pythonic Way',\n",
       " 'Build a Dice-Rolling Application With Python',\n",
       " 'Top Python Game Engines',\n",
       " 'Develop Data Visualization Interfaces in Python With Dash',\n",
       " 'Build a Quiz Application With Python',\n",
       " 'Build a Tic-Tac-Toe Game With Python and Tkinter',\n",
       " 'Python & APIs: A Winning Combo for Reading Public Data',\n",
       " 'A Guide to Modern Python String Formatting Tools',\n",
       " 'Providing Multiple Constructors in Your Python Classes',\n",
       " 'Natural Language Processing With spaCy in Python',\n",
       " \"Split Your Dataset With scikit-learn's train_test_split()\",\n",
       " 'Creating a Scalable Flask Web Application From Scratch',\n",
       " 'How to Split a Python List or Iterable Into Chunks',\n",
       " 'Lists vs Tuples in Python',\n",
       " 'Python Folium: Create Web Maps From Your Data',\n",
       " 'Python\\'s \"in\" and \"not in\" Operators: Check for Membership',\n",
       " \"Python's zipfile: Manipulate Your ZIP Files Efficiently\"]"
      ]
     },
     "execution_count": 15,
     "metadata": {},
     "output_type": "execute_result"
    }
   ],
   "source": [
    "\"\"\"data = []\n",
    "for i in titles:\n",
    "    #print(i.text)\n",
    "    data.append(i.text)\n",
    "data\"\"\"\n",
    "data = [i.text for i in titles]\n",
    "data"
   ]
  },
  {
   "cell_type": "code",
   "execution_count": 16,
   "id": "5472dfd7-98c2-4b0c-8750-3778fe525e56",
   "metadata": {},
   "outputs": [
    {
     "data": {
      "text/plain": [
       "{'CARD TITLES': ['How to Split a String in Python',\n",
       "  'NumPy Techniques and Practical Examples',\n",
       "  'Python for Loops: The Pythonic Way',\n",
       "  'Build a Dice-Rolling Application With Python',\n",
       "  'Top Python Game Engines',\n",
       "  'Develop Data Visualization Interfaces in Python With Dash',\n",
       "  'Build a Quiz Application With Python',\n",
       "  'Build a Tic-Tac-Toe Game With Python and Tkinter',\n",
       "  'Python & APIs: A Winning Combo for Reading Public Data',\n",
       "  'A Guide to Modern Python String Formatting Tools',\n",
       "  'Providing Multiple Constructors in Your Python Classes',\n",
       "  'Natural Language Processing With spaCy in Python',\n",
       "  \"Split Your Dataset With scikit-learn's train_test_split()\",\n",
       "  'Creating a Scalable Flask Web Application From Scratch',\n",
       "  'How to Split a Python List or Iterable Into Chunks',\n",
       "  'Lists vs Tuples in Python',\n",
       "  'Python Folium: Create Web Maps From Your Data',\n",
       "  'Python\\'s \"in\" and \"not in\" Operators: Check for Membership',\n",
       "  \"Python's zipfile: Manipulate Your ZIP Files Efficiently\"]}"
      ]
     },
     "execution_count": 16,
     "metadata": {},
     "output_type": "execute_result"
    }
   ],
   "source": [
    "Dic = {\"CARD TITLES\": data}\n",
    "Dic"
   ]
  },
  {
   "cell_type": "code",
   "execution_count": 18,
   "id": "b6f35c94-4c76-40df-88b5-7224e8cc84ef",
   "metadata": {},
   "outputs": [
    {
     "data": {
      "text/html": [
       "<div>\n",
       "<style scoped>\n",
       "    .dataframe tbody tr th:only-of-type {\n",
       "        vertical-align: middle;\n",
       "    }\n",
       "\n",
       "    .dataframe tbody tr th {\n",
       "        vertical-align: top;\n",
       "    }\n",
       "\n",
       "    .dataframe thead th {\n",
       "        text-align: right;\n",
       "    }\n",
       "</style>\n",
       "<table border=\"1\" class=\"dataframe\">\n",
       "  <thead>\n",
       "    <tr style=\"text-align: right;\">\n",
       "      <th></th>\n",
       "      <th>CARD TITLES</th>\n",
       "    </tr>\n",
       "  </thead>\n",
       "  <tbody>\n",
       "    <tr>\n",
       "      <th>0</th>\n",
       "      <td>How to Split a String in Python</td>\n",
       "    </tr>\n",
       "    <tr>\n",
       "      <th>1</th>\n",
       "      <td>NumPy Techniques and Practical Examples</td>\n",
       "    </tr>\n",
       "    <tr>\n",
       "      <th>2</th>\n",
       "      <td>Python for Loops: The Pythonic Way</td>\n",
       "    </tr>\n",
       "    <tr>\n",
       "      <th>3</th>\n",
       "      <td>Build a Dice-Rolling Application With Python</td>\n",
       "    </tr>\n",
       "    <tr>\n",
       "      <th>4</th>\n",
       "      <td>Top Python Game Engines</td>\n",
       "    </tr>\n",
       "    <tr>\n",
       "      <th>5</th>\n",
       "      <td>Develop Data Visualization Interfaces in Pytho...</td>\n",
       "    </tr>\n",
       "    <tr>\n",
       "      <th>6</th>\n",
       "      <td>Build a Quiz Application With Python</td>\n",
       "    </tr>\n",
       "    <tr>\n",
       "      <th>7</th>\n",
       "      <td>Build a Tic-Tac-Toe Game With Python and Tkinter</td>\n",
       "    </tr>\n",
       "    <tr>\n",
       "      <th>8</th>\n",
       "      <td>Python &amp; APIs: A Winning Combo for Reading Pub...</td>\n",
       "    </tr>\n",
       "    <tr>\n",
       "      <th>9</th>\n",
       "      <td>A Guide to Modern Python String Formatting Tools</td>\n",
       "    </tr>\n",
       "    <tr>\n",
       "      <th>10</th>\n",
       "      <td>Providing Multiple Constructors in Your Python...</td>\n",
       "    </tr>\n",
       "    <tr>\n",
       "      <th>11</th>\n",
       "      <td>Natural Language Processing With spaCy in Python</td>\n",
       "    </tr>\n",
       "    <tr>\n",
       "      <th>12</th>\n",
       "      <td>Split Your Dataset With scikit-learn's train_t...</td>\n",
       "    </tr>\n",
       "    <tr>\n",
       "      <th>13</th>\n",
       "      <td>Creating a Scalable Flask Web Application From...</td>\n",
       "    </tr>\n",
       "    <tr>\n",
       "      <th>14</th>\n",
       "      <td>How to Split a Python List or Iterable Into Ch...</td>\n",
       "    </tr>\n",
       "    <tr>\n",
       "      <th>15</th>\n",
       "      <td>Lists vs Tuples in Python</td>\n",
       "    </tr>\n",
       "    <tr>\n",
       "      <th>16</th>\n",
       "      <td>Python Folium: Create Web Maps From Your Data</td>\n",
       "    </tr>\n",
       "    <tr>\n",
       "      <th>17</th>\n",
       "      <td>Python's \"in\" and \"not in\" Operators: Check fo...</td>\n",
       "    </tr>\n",
       "    <tr>\n",
       "      <th>18</th>\n",
       "      <td>Python's zipfile: Manipulate Your ZIP Files Ef...</td>\n",
       "    </tr>\n",
       "  </tbody>\n",
       "</table>\n",
       "</div>"
      ],
      "text/plain": [
       "                                          CARD TITLES\n",
       "0                     How to Split a String in Python\n",
       "1             NumPy Techniques and Practical Examples\n",
       "2                  Python for Loops: The Pythonic Way\n",
       "3        Build a Dice-Rolling Application With Python\n",
       "4                             Top Python Game Engines\n",
       "5   Develop Data Visualization Interfaces in Pytho...\n",
       "6                Build a Quiz Application With Python\n",
       "7    Build a Tic-Tac-Toe Game With Python and Tkinter\n",
       "8   Python & APIs: A Winning Combo for Reading Pub...\n",
       "9    A Guide to Modern Python String Formatting Tools\n",
       "10  Providing Multiple Constructors in Your Python...\n",
       "11   Natural Language Processing With spaCy in Python\n",
       "12  Split Your Dataset With scikit-learn's train_t...\n",
       "13  Creating a Scalable Flask Web Application From...\n",
       "14  How to Split a Python List or Iterable Into Ch...\n",
       "15                          Lists vs Tuples in Python\n",
       "16      Python Folium: Create Web Maps From Your Data\n",
       "17  Python's \"in\" and \"not in\" Operators: Check fo...\n",
       "18  Python's zipfile: Manipulate Your ZIP Files Ef..."
      ]
     },
     "execution_count": 18,
     "metadata": {},
     "output_type": "execute_result"
    }
   ],
   "source": [
    "import pandas as x\n",
    "df = x.DataFrame(Dic)\n",
    "df"
   ]
  },
  {
   "cell_type": "code",
   "execution_count": 20,
   "id": "a7fcdab6-b844-4ab1-be3c-476b51a60e28",
   "metadata": {},
   "outputs": [],
   "source": [
    "df.to_csv(\"CARD_TITLES.csv\")\n"
   ]
  },
  {
   "cell_type": "code",
   "execution_count": null,
   "id": "b7afe147-1b11-462a-bcbf-504c684d511b",
   "metadata": {},
   "outputs": [],
   "source": []
  },
  {
   "cell_type": "code",
   "execution_count": null,
   "id": "2fb8fc38-e1ea-426f-93d9-cc471cab4ca7",
   "metadata": {},
   "outputs": [],
   "source": []
  }
 ],
 "metadata": {
  "kernelspec": {
   "display_name": "Python 3 (ipykernel)",
   "language": "python",
   "name": "python3"
  },
  "language_info": {
   "codemirror_mode": {
    "name": "ipython",
    "version": 3
   },
   "file_extension": ".py",
   "mimetype": "text/x-python",
   "name": "python",
   "nbconvert_exporter": "python",
   "pygments_lexer": "ipython3",
   "version": "3.11.7"
  }
 },
 "nbformat": 4,
 "nbformat_minor": 5
}
